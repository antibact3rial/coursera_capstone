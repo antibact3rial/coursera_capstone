{
    "nbformat_minor": 2, 
    "cells": [
        {
            "source": "# Introduction\n\nThis project is an exhibition of the different skills sets learned in the course. First we show data understanding and data analysis skills by \"scraping\" a data table from Wikipedia, removing erroneous entries and then using this information to find the longitude and latitude of Borough.\n", 
            "cell_type": "markdown", 
            "metadata": {}
        }, 
        {
            "source": "# Data\n\nFoursquare location data will be the main component to the problem we are solving.", 
            "cell_type": "markdown", 
            "metadata": {}
        }, 
        {
            "execution_count": null, 
            "cell_type": "code", 
            "metadata": {}, 
            "outputs": [], 
            "source": ""
        }
    ], 
    "metadata": {
        "kernelspec": {
            "display_name": "Python 3.5", 
            "name": "python3", 
            "language": "python"
        }, 
        "language_info": {
            "mimetype": "text/x-python", 
            "nbconvert_exporter": "python", 
            "version": "3.5.5", 
            "name": "python", 
            "file_extension": ".py", 
            "pygments_lexer": "ipython3", 
            "codemirror_mode": {
                "version": 3, 
                "name": "ipython"
            }
        }
    }, 
    "nbformat": 4
}