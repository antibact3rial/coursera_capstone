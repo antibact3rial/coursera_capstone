{
    "nbformat_minor": 2, 
    "cells": [
        {
            "source": "# Introduction\n\nThe goal is to find out the viability of investing in one or more new grocery stores in Denton County, Texas. \n\n##  Business Case\n\nWe will review the cities that reside within Denton County and see what city or cities are most likely to give a strong ROI from a new grocery store.\n\n# Data\n\nThis project will use datafrom the following locations:\n#### http://data.cityofdenton.com/\n#### https://data.gov\n#### Foursquare\n\nWe will discuss the data more in-depth later on.", 
            "cell_type": "markdown", 
            "metadata": {}
        }, 
        {
            "execution_count": null, 
            "cell_type": "code", 
            "metadata": {}, 
            "outputs": [], 
            "source": ""
        }
    ], 
    "metadata": {
        "kernelspec": {
            "display_name": "Python 3.5", 
            "name": "python3", 
            "language": "python"
        }, 
        "language_info": {
            "mimetype": "text/x-python", 
            "nbconvert_exporter": "python", 
            "version": "3.5.5", 
            "name": "python", 
            "file_extension": ".py", 
            "pygments_lexer": "ipython3", 
            "codemirror_mode": {
                "version": 3, 
                "name": "ipython"
            }
        }
    }, 
    "nbformat": 4
}